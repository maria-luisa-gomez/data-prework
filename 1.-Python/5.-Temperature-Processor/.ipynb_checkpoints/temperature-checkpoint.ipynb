{
 "cells": [
  {
   "cell_type": "markdown",
   "metadata": {},
   "source": [
    "<img src=\"https://bit.ly/2VnXWr2\" width=\"100\" align=\"left\">"
   ]
  },
  {
   "cell_type": "markdown",
   "metadata": {},
   "source": [
    "# Temperature Sensor\n",
    "\n",
    "There is a temperature sensor in the processor of your company's server. The company wants to analyze the data provided by the sensor to decide if they should change the cooling system for a better one. As changing the cooling system is expensive and you are an excellent data analyst, you can't make a decision without basis.\n",
    "\n",
    "## Tools\n",
    "You don't necessarily need to use all the tools. Maybe you opt to use some of them or completely different ones, they are given to help you shape the exercise. Programming exercises can be solved in many different ways.\n",
    "1. Data structures: **lists**\n",
    "2. Loops: **list comprehension**\n",
    "3. Functions: **min, max, print, len**\n",
    "4. Conditional statements: **if-elif-else**\n",
    "\n",
    "## Tasks\n",
    "The temperatures measured throughout the 24 hours of a day are:"
   ]
  },
  {
   "cell_type": "code",
   "execution_count": 2,
   "metadata": {},
   "outputs": [],
   "source": [
    "temperatures_C = [33, 66, 65, 0, 59, 60, 62, 64, 70, 76, 80, 81, 80, 83, 90, 79, 61, 53, 50, 49, 53, 48, 45, 39]"
   ]
  },
  {
   "cell_type": "markdown",
   "metadata": {},
   "source": [
    "The first element of the list is the temperature at 12am, the second element is the temperature at 1am, and so on. \n",
    "\n",
    "The company has decided that if one of the following events occurs, then the cooling system needs to be replaced for a new one to avoid damaging the processor.\n",
    "* More than 4 temperatures are greater than or equal to 70ºC.\n",
    "* Any temperature is above 80ºC.\n",
    "* The average temperature exceeds 65ºC.\n",
    "\n",
    "Follow the steps so that you can make the decision.\n",
    "\n",
    "#### 1. Find the minimum temperature of the day and store it in a variable."
   ]
  },
  {
   "cell_type": "code",
   "execution_count": 3,
   "metadata": {},
   "outputs": [
    {
     "name": "stdout",
     "output_type": "stream",
     "text": [
      "0\n",
      "{'0:00': 33, '1:00': 66, '2:00': 65, '3:00': 0, '4:00': 59, '5:00': 60, '6:00': 62, '7:00': 64, '8:00': 70, '9:00': 76, '10:00': 80, '11:00': 81, '12:00': 80, '13:00': 83, '14:00': 90, '15:00': 79, '16:00': 61, '17:00': 53, '18:00': 50, '19:00': 49, '20:00': 53, '21:00': 48, '22:00': 45, '23:00': 39}\n"
     ]
    }
   ],
   "source": [
    "minimum_temperature = min(temperatures_C)\n",
    "print(minimum_temperature)\n",
    "\n",
    "from datetime import time\n",
    "\n",
    "hours = []\n",
    "\n",
    "for i in range(24):\n",
    "    hour = str(i) + \":00\"\n",
    "    hours.append(hour)\n",
    "# print(hours)\n",
    "\n",
    "hours_temperatures_C = dict(zip(hours, temperatures_C))\n",
    "print(hours_temperatures_C)"
   ]
  },
  {
   "cell_type": "markdown",
   "metadata": {},
   "source": [
    "#### 2. Find the maximum temperature of the day and store it in a variable."
   ]
  },
  {
   "cell_type": "code",
   "execution_count": 4,
   "metadata": {},
   "outputs": [
    {
     "name": "stdout",
     "output_type": "stream",
     "text": [
      "90\n"
     ]
    }
   ],
   "source": [
    "maximum_temperature = max(temperatures_C)\n",
    "print(maximum_temperature)"
   ]
  },
  {
   "cell_type": "markdown",
   "metadata": {},
   "source": [
    "#### 3. Create a list with the temperatures that are greater than or equal to 70ºC. Store it in a variable."
   ]
  },
  {
   "cell_type": "code",
   "execution_count": 5,
   "metadata": {},
   "outputs": [
    {
     "name": "stdout",
     "output_type": "stream",
     "text": [
      "[70, 76, 80, 81, 80, 83, 90, 79]\n"
     ]
    }
   ],
   "source": [
    "temps_gt_70 = []\n",
    "\n",
    "\n",
    "for i in temperatures_C:\n",
    "    if i >=70:\n",
    "        temps_gt_70.append(i)\n",
    "\n",
    "print(temps_gt_70)"
   ]
  },
  {
   "cell_type": "markdown",
   "metadata": {},
   "source": [
    "#### 4. Find the average temperature of the day and store it in a variable."
   ]
  },
  {
   "cell_type": "code",
   "execution_count": 6,
   "metadata": {},
   "outputs": [
    {
     "name": "stdout",
     "output_type": "stream",
     "text": [
      "60\n"
     ]
    }
   ],
   "source": [
    "avg_temperature = sum(temperatures_C)/len(temperatures_C)\n",
    "\n",
    "avg_temperature = int(avg_temperature)\n",
    "print(avg_temperature)"
   ]
  },
  {
   "cell_type": "markdown",
   "metadata": {},
   "source": [
    "#### 5. Imagine that there was a sensor failure at 3am and the data for that specific hour was not recorded. How would you estimate the missing value? Replace the current value of the list at 3am for an estimation. "
   ]
  },
  {
   "cell_type": "code",
   "execution_count": 7,
   "metadata": {},
   "outputs": [
    {
     "name": "stdout",
     "output_type": "stream",
     "text": [
      "[33, 66, 65, 60, 59, 60, 62, 64, 70, 76, 80, 81, 80, 83, 90, 79, 61, 53, 50, 49, 53, 48, 45, 39]\n"
     ]
    }
   ],
   "source": [
    "for i in range(len(temperatures_C)):\n",
    "    if temperatures_C[i] == 0:\n",
    "        temperatures_C[i]= avg_temperature\n",
    "\n",
    "print(temperatures_C)"
   ]
  },
  {
   "cell_type": "markdown",
   "metadata": {},
   "source": [
    "#### 6. Bonus: the maintenance staff is from the United States and does not understand the international metric system. Help them by converting the temperatures from Celsius to Fahrenheit.\n",
    "To know more about temperature conversion check this [link](https://en.wikipedia.org/wiki/Conversion_of_units_of_temperature).\n",
    "\n",
    "**Formula**: \n",
    "\n",
    "$F = 1.8 * C + 32$"
   ]
  },
  {
   "cell_type": "code",
   "execution_count": 8,
   "metadata": {},
   "outputs": [
    {
     "name": "stdout",
     "output_type": "stream",
     "text": [
      "   33  91.4\n",
      "   66 150.8\n",
      "   65 149.0\n",
      "   60 140.0\n",
      "   59 138.2\n",
      "   60 140.0\n",
      "   62 143.6\n",
      "   64 147.2\n",
      "   70 158.0\n",
      "   76 168.8\n",
      "   80 176.0\n",
      "   81 177.8\n",
      "   80 176.0\n",
      "   83 181.4\n",
      "   90 194.0\n",
      "   79 174.2\n",
      "   61 141.8\n",
      "   53 127.4\n",
      "   50 122.0\n",
      "   49 120.2\n",
      "   53 127.4\n",
      "   48 118.4\n",
      "   45 113.0\n",
      "   39 102.2\n"
     ]
    }
   ],
   "source": [
    "temperatures_F = []\n",
    "for C in temperatures_C:\n",
    "    F = (9.0/5)*C + 32\n",
    "    temperatures_F.append(F)\n",
    "    print ('%5d %5.1f' % (C, F))"
   ]
  },
  {
   "cell_type": "markdown",
   "metadata": {},
   "source": [
    "#### 7. Make a decision!\n",
    "Now it's time to make a decision taking into account what you have seen until now. \n",
    "\n",
    "Remember that if one of the following events occurs, then the cooling system needs to be replaced for a new one to avoid damaging the processor.\n",
    "* More than 4 temperatures are greater than or equal to 70ºC.\n",
    "* Any temperature is above 80ºC.\n",
    "* The average temperature exceeds 65ºC.\n",
    "\n",
    "#### To make your decision, check if any of the three conditions above is met. You might need to use some of the variables you created in steps 1 to 6. Print a message to show if the cooling system needs to be changed or not."
   ]
  },
  {
   "cell_type": "code",
   "execution_count": 9,
   "metadata": {},
   "outputs": [
    {
     "name": "stdout",
     "output_type": "stream",
     "text": [
      "The cooling sistem need to be changed\n"
     ]
    }
   ],
   "source": [
    "temps_gt_80 = []\n",
    "\n",
    "\n",
    "for i in temperatures_C:\n",
    "    if i >=80:\n",
    "        temps_gt_80.append(i)\n",
    "\n",
    "\n",
    "if avg_temperature > 65:\n",
    "    print(\"The cooling sistem need to be changed\")\n",
    "elif len(temps_gt_70) > 4:\n",
    "    print(\"The cooling sistem need to be changed\")\n",
    "elif len(temps_gt_80) > 1:\n",
    "    print(\"The cooling sistem need to be changed\")\n",
    "else:\n",
    "    print('The cooling sistem doesn´t need to be changed') "
   ]
  },
  {
   "cell_type": "markdown",
   "metadata": {},
   "source": [
    "## Bonus\n",
    "\n",
    "The company has decided that the decision you made is not valid. They want you to analyze the data again but this time, the conditions that need to be met in order to change the cooling system are different.\n",
    "\n",
    "This time, if one of the following events occurs, then the cooling system needs to be replaced:\n",
    "* The temperature is greater than 70ºC during more than 4 consecutive hours.\n",
    "* Any temperature is above 80ºC.\n",
    "* The average temperature exceeds 65ºC.\n",
    "\n",
    "Follow the steps so that you can make the decision.\n",
    "\n",
    "#### 1. Create a list with the hours where the temperature is greater than 70ºC. Store it in a variable."
   ]
  },
  {
   "cell_type": "code",
   "execution_count": 10,
   "metadata": {},
   "outputs": [
    {
     "name": "stdout",
     "output_type": "stream",
     "text": [
      "[70, 76, 80, 81, 80, 83, 90, 79]\n"
     ]
    }
   ],
   "source": [
    "temps_gt_70 = []\n",
    "\n",
    "\n",
    "for i in temperatures_C:\n",
    "    if i >=70:\n",
    "        temps_gt_70.append(i)\n",
    "\n",
    "print(temps_gt_70)"
   ]
  },
  {
   "cell_type": "markdown",
   "metadata": {},
   "source": [
    "#### 2. Check if the list you created in step 1 has more than 4 consecutive hours. "
   ]
  },
  {
   "cell_type": "code",
   "execution_count": 11,
   "metadata": {},
   "outputs": [
    {
     "name": "stdout",
     "output_type": "stream",
     "text": [
      "0\n",
      "0\n",
      "0\n",
      "0\n",
      "0\n",
      "0\n",
      "0\n",
      "0\n",
      "1\n",
      "2\n",
      "3\n",
      "4\n",
      "The cooling sistem need to be changed\n"
     ]
    }
   ],
   "source": [
    "count_over_70 = 0\n",
    "\n",
    "\n",
    "for i in range(len(temperatures_C)):   \n",
    "    if temperatures_C[i]>=70:\n",
    "        count_over_70 += 1\n",
    "        print(count_over_70)\n",
    "        \n",
    "    elif temperatures_C[i]<70: \n",
    "        count_over_70 = 0\n",
    "        print(count_over_70)\n",
    "    else:\n",
    "        continue\n",
    "    if count_over_70 >= 4:\n",
    "        print(\"The cooling sistem need to be changed\")\n",
    "        condition_1 = True\n",
    "        break\n",
    "#     if count_over_70 < 4:\n",
    "#         print(\"The cooling sistem doesn't need to be changed\")\n",
    "#         break"
   ]
  },
  {
   "cell_type": "markdown",
   "metadata": {},
   "source": [
    "#### 3. Make the decision!\n",
    "To make your decision, check if any of the three conditions is met. Print a message to show if the cooling system needs to be changed or not."
   ]
  },
  {
   "cell_type": "code",
   "execution_count": 12,
   "metadata": {},
   "outputs": [
    {
     "name": "stdout",
     "output_type": "stream",
     "text": [
      "The cooling sistem need to be changed\n"
     ]
    }
   ],
   "source": [
    "if condition_1 == True:\n",
    "    print(\"The cooling sistem need to be changed\")\n",
    "elif avg_temperature > 65:\n",
    "    print(\"The cooling sistem need to be changed\")\n",
    "elif len(temps_great_80) > 1:\n",
    "    print(\"The cooling sistem need to be changed\")\n",
    "else:\n",
    "    print('The cooling sistem doesn´t need to be changed')\n"
   ]
  },
  {
   "cell_type": "markdown",
   "metadata": {},
   "source": [
    "#### 4. Find the average value of the temperature lists (ºC and ºF). What is the relation between both average values?"
   ]
  },
  {
   "cell_type": "code",
   "execution_count": 14,
   "metadata": {},
   "outputs": [
    {
     "name": "stdout",
     "output_type": "stream",
     "text": [
      "average value of the temperature list in ºC 60\n",
      "average value of the temperature list in ºF 144\n"
     ]
    }
   ],
   "source": [
    "avg_temperature_F = sum(temperatures_F)/len(temperatures_F)\n",
    "\n",
    "avg_temperature_F = int(avg_temperature_F)\n",
    "print(\"average value of the temperature list in ºC\",avg_temperature)\n",
    "print(\"average value of the temperature list in ºF\",avg_temperature_F)"
   ]
  },
  {
   "cell_type": "markdown",
   "metadata": {},
   "source": [
    "#### 5. Find the standard deviation of the temperature lists (ºC and ºF). What is the relation between both standard deviations?"
   ]
  },
  {
   "cell_type": "code",
   "execution_count": 18,
   "metadata": {},
   "outputs": [
    {
     "name": "stdout",
     "output_type": "stream",
     "text": [
      "Standard Deviation for ºC  =  14.6\n",
      "Standard Deviation for ºF =  26.4\n",
      "The standard dev 26.4 °F is bigger than 14.6 °C because the values in °F are more spread\n"
     ]
    }
   ],
   "source": [
    "import numpy as np\n",
    "print('Standard Deviation for ºC  = ', round(np.std(temperatures_C),1))\n",
    "print('Standard Deviation for ºF = ', round(np.std(temperatures_F),1))\n",
    "print(\"The standard dev 26.4 °F is bigger than 14.6 °C because the values in °F are more spread\")"
   ]
  },
  {
   "cell_type": "code",
   "execution_count": null,
   "metadata": {},
   "outputs": [],
   "source": []
  }
 ],
 "metadata": {
  "kernelspec": {
   "display_name": "Python 3",
   "language": "python",
   "name": "python3"
  },
  "language_info": {
   "codemirror_mode": {
    "name": "ipython",
    "version": 3
   },
   "file_extension": ".py",
   "mimetype": "text/x-python",
   "name": "python",
   "nbconvert_exporter": "python",
   "pygments_lexer": "ipython3",
   "version": "3.7.3"
  }
 },
 "nbformat": 4,
 "nbformat_minor": 2
}
