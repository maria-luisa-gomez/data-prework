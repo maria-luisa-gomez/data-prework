{
 "cells": [
  {
   "cell_type": "markdown",
   "metadata": {},
   "source": [
    "<img src=\"https://bit.ly/2VnXWr2\" width=\"100\" align=\"left\">"
   ]
  },
  {
   "cell_type": "markdown",
   "metadata": {},
   "source": [
    "# Rock, Paper & Scissors\n",
    "\n",
    "Let's play the famous game against our computer. You can check the rules [here](https://en.wikipedia.org/wiki/Rock%E2%80%93paper%E2%80%93scissors). \n",
    "\n",
    "## Task\n",
    "Create a program that imitates the playability of the well known game of rock, paper, scissors. Follow the guidelines provided.\n",
    "\n",
    "## Tools\n",
    "1. Loop: **for/while**\n",
    "2. Functions: **input(), print()...**\n",
    "3. Conditional statements: **if, elif, else**\n",
    "4. Definition of functions. Modular programming\n",
    "5. Import modules\n",
    "\n",
    "**To solve this challenge, the use of functions is recommended.**\n",
    "\n",
    "#### 1. Import the choice function of the random module."
   ]
  },
  {
   "cell_type": "code",
   "execution_count": 1,
   "metadata": {},
   "outputs": [],
   "source": [
    "import random"
   ]
  },
  {
   "cell_type": "markdown",
   "metadata": {},
   "source": [
    "#### 2. Create a list that includes the 3 possible gesture options of the game: 'rock', 'paper' or 'scissors'. Store the list in a variable called `gestures`."
   ]
  },
  {
   "cell_type": "code",
   "execution_count": 2,
   "metadata": {},
   "outputs": [],
   "source": [
    "gestures = ['rock','paper','scissors']"
   ]
  },
  {
   "cell_type": "markdown",
   "metadata": {},
   "source": [
    "#### 3. Create a variable called `n_rounds` to store the maximum number of rounds to play in a game. \n",
    "Remember that the number of rounds must be odd: 1, 3, 5, ..."
   ]
  },
  {
   "cell_type": "code",
   "execution_count": 3,
   "metadata": {},
   "outputs": [],
   "source": [
    "n_rounds = 3"
   ]
  },
  {
   "cell_type": "markdown",
   "metadata": {},
   "source": [
    "#### 4. Create a variable called `rounds_to_win` to store the number of rounds that a player must win to win the game.\n",
    "**Hint**: the value stored in `rounds_to_win` depends on the value of `n_rounds`. "
   ]
  },
  {
   "cell_type": "code",
   "execution_count": 4,
   "metadata": {},
   "outputs": [],
   "source": [
    "rounds_to_win = (n_rounds+1)/2"
   ]
  },
  {
   "cell_type": "markdown",
   "metadata": {},
   "source": [
    "#### 5. Create two variables to store the number of rounds that the computer and the player have won. Call these variables `cpu_score` and `player_score`."
   ]
  },
  {
   "cell_type": "code",
   "execution_count": 5,
   "metadata": {},
   "outputs": [],
   "source": [
    "cpu_score  = 0\n",
    "player_score = 0"
   ]
  },
  {
   "cell_type": "markdown",
   "metadata": {},
   "source": [
    "#### 6. Define a function that randomly returns one of the 3 gesture options.\n",
    "You will use this function to simulate the gesture choice of the computer. "
   ]
  },
  {
   "cell_type": "code",
   "execution_count": 6,
   "metadata": {},
   "outputs": [
    {
     "name": "stdout",
     "output_type": "stream",
     "text": [
      "scissors\n"
     ]
    }
   ],
   "source": [
    "random_gest = random.choice(gestures)\n",
    "print(random_gest)"
   ]
  },
  {
   "cell_type": "markdown",
   "metadata": {},
   "source": [
    "#### 7. Define a function that asks the player which is the gesture he or she wants to show: 'rock', 'paper' or 'scissors'.\n",
    "The player should only be allowed to choose one of the 3 gesture options. If the player's choice is not rock, paper or scissors, keep asking until it is."
   ]
  },
  {
   "cell_type": "code",
   "execution_count": 7,
   "metadata": {},
   "outputs": [
    {
     "name": "stdout",
     "output_type": "stream",
     "text": [
      "play gesture 'rock', 'paper' or 'scissors':scissors\n"
     ]
    },
    {
     "data": {
      "text/plain": [
       "'scissors'"
      ]
     },
     "execution_count": 7,
     "metadata": {},
     "output_type": "execute_result"
    }
   ],
   "source": [
    "def PlayerTurn():\n",
    "    while (True):\n",
    "        player = input(\"play gesture 'rock', 'paper' or 'scissors':\")\n",
    "        if player == 'rock':\n",
    "            break\n",
    "        elif player == 'paper':\n",
    "            break\n",
    "        elif player == 'scissors':\n",
    "            break\n",
    "        else:\n",
    "            print('not valid gesture, try again')\n",
    "    return player\n",
    "PlayerTurn()\n"
   ]
  },
  {
   "cell_type": "markdown",
   "metadata": {},
   "source": [
    "#### 8. Define a function that checks who won a round. \n",
    "The function should return 0 if there is a tie, 1 if the computer wins and 2 if the player wins."
   ]
  },
  {
   "cell_type": "code",
   "execution_count": 8,
   "metadata": {},
   "outputs": [],
   "source": [
    "def whowins(x, y):\n",
    "    if x == \"rock\":\n",
    "        if y ==\"paper\":\n",
    "            return 1\n",
    "        elif y ==\"scissors\":\n",
    "            return 2\n",
    "        else:\n",
    "            return 0\n",
    "    if x == \"paper\":\n",
    "        if y ==\"scissors\":\n",
    "            return 1\n",
    "        elif y ==\"rock\":\n",
    "            return 2\n",
    "        else:\n",
    "            return 0\n",
    "    if x == \"scissors\":\n",
    "        if y ==\"rock\":\n",
    "            return 1\n",
    "        elif y ==\"paper\":\n",
    "            return 2\n",
    "        else:\n",
    "            return 0"
   ]
  },
  {
   "cell_type": "markdown",
   "metadata": {},
   "source": [
    "#### 9. Define a function that prints the choice of the computer, the choice of the player and a message that announces who won the current round. \n",
    "You should also use this function to update the variables that count the number of rounds that the computer and the player have won. The score of the winner increases by one point. If there is a tie, the score does not increase."
   ]
  },
  {
   "cell_type": "code",
   "execution_count": 9,
   "metadata": {},
   "outputs": [
    {
     "name": "stdout",
     "output_type": "stream",
     "text": [
      "play gesture 'rock', 'paper' or 'scissors':rock\n",
      "Your choice: rock\n",
      "Computer choice: scissors\n",
      "Current round: 1\n",
      "Player wins this round!\n"
     ]
    }
   ],
   "source": [
    "Round = 0\n",
    "def rpsround():\n",
    "    global Round\n",
    "    global cpu_score\n",
    "    global player_score\n",
    "    playergest = PlayerTurn()\n",
    "    randomgest = random.choice(gestures)\n",
    "    print(\"Your choice:\", playergest)\n",
    "    print(\"Computer choice:\", random_gest)\n",
    "    Round += 1 \n",
    "    print(\"Current round:\",Round)\n",
    "    if whowins(playergest,random_gest) == 1:\n",
    "        print(\"Computer wins this round!\")\n",
    "        cpu_score += 1\n",
    "    elif whowins(playergest,random_gest) == 2:\n",
    "        print(\"Player wins this round!\")\n",
    "        player_score += 1\n",
    "    else:\n",
    "        print(\"Tie!\")\n",
    "rpsround()"
   ]
  },
  {
   "cell_type": "markdown",
   "metadata": {},
   "source": [
    "#### 10. Now it's time to code the execution of the game using the functions and variables you defined above. \n",
    "\n",
    "First, create a loop structure that repeats while no player reaches the minimum score necessary to win and the number of rounds is less than the maximum number of rounds to play in a game.  \n",
    "\n",
    "Inside the loop, use the functions and variables above to create the execution of a round: ask for the player's choice, generate the random choice of the computer, show the round results, update the scores, etc. "
   ]
  },
  {
   "cell_type": "code",
   "execution_count": 10,
   "metadata": {},
   "outputs": [
    {
     "name": "stdout",
     "output_type": "stream",
     "text": [
      "play gesture 'rock', 'paper' or 'scissors':rock\n",
      "Your choice: rock\n",
      "Computer choice: scissors\n",
      "Current round: 1\n",
      "Player wins this round!\n",
      "play gesture 'rock', 'paper' or 'scissors':rock\n",
      "Your choice: rock\n",
      "Computer choice: scissors\n",
      "Current round: 2\n",
      "Player wins this round!\n",
      "play gesture 'rock', 'paper' or 'scissors':paper\n",
      "Your choice: paper\n",
      "Computer choice: scissors\n",
      "Current round: 3\n",
      "Computer wins this round!\n"
     ]
    }
   ],
   "source": [
    "n_rounds = 3\n",
    "\n",
    "Round = 0\n",
    "cpu_score = 0\n",
    "player_score = 0\n",
    "while Round != n_rounds:\n",
    "    rpsround()"
   ]
  },
  {
   "cell_type": "markdown",
   "metadata": {},
   "source": [
    "#### 11. Print the winner of the game based on who won more rounds.\n",
    "Remember that the game might be tied. "
   ]
  },
  {
   "cell_type": "code",
   "execution_count": 11,
   "metadata": {},
   "outputs": [
    {
     "name": "stdout",
     "output_type": "stream",
     "text": [
      "Player won game!\n"
     ]
    }
   ],
   "source": [
    "if cpu_score >= rounds_to_win:\n",
    "    print(\"Computer won game!\")\n",
    "elif player_score >= rounds_to_win:\n",
    "    print(\"Player won game!\")\n",
    "else:\n",
    "    print(\"Game tied!\")"
   ]
  },
  {
   "cell_type": "markdown",
   "metadata": {},
   "source": [
    "# Bonus: Rock, Paper, Scissors, Lizard & Spock\n",
    "![](images/rpsls.jpg)\n",
    "\n",
    "In this challenge, you need to improve the previous game by adding two new options. To know more about the rules of the improved version of rock, paper, scissors, check this [link](http://www.samkass.com/theories/RPSSL.html). \n",
    "\n",
    "In addition, you will also need to improve how the game interacts with the player: the number of rounds to play, which must be an odd number, will be requested to the user until a valid number is entered. Define a new function to make that request.\n",
    "\n",
    "**Hint**: Try to reuse the code that you already coded in the previous challenge. If your code is efficient, this bonus will only consist of simple modifications to the original game."
   ]
  },
  {
   "cell_type": "code",
   "execution_count": 12,
   "metadata": {},
   "outputs": [],
   "source": [
    "gestures = ['rock','paper','scissors', 'lizard','spock']"
   ]
  },
  {
   "cell_type": "code",
   "execution_count": 13,
   "metadata": {},
   "outputs": [],
   "source": [
    "#maximum number of rounds to play in a game.\n",
    "n_rounds = 5"
   ]
  },
  {
   "cell_type": "code",
   "execution_count": 14,
   "metadata": {},
   "outputs": [],
   "source": [
    "#Create two variables to store the number of rounds that the computer and the player have won\n",
    "cpu_score  = 0\n",
    "player_score = 0"
   ]
  },
  {
   "cell_type": "code",
   "execution_count": 15,
   "metadata": {},
   "outputs": [],
   "source": [
    "# variable to store the number of rounds\n",
    "rounds_to_win = (n_rounds+1)/2"
   ]
  },
  {
   "cell_type": "code",
   "execution_count": 16,
   "metadata": {},
   "outputs": [
    {
     "name": "stdout",
     "output_type": "stream",
     "text": [
      "scissors\n"
     ]
    }
   ],
   "source": [
    "# Define a function that randomly returns one of the 5 gesture options\n",
    "random_gest = random.choice(gestures)\n",
    "print(random_gest)"
   ]
  },
  {
   "cell_type": "code",
   "execution_count": 17,
   "metadata": {},
   "outputs": [
    {
     "name": "stdout",
     "output_type": "stream",
     "text": [
      "play gesture 'rock', 'paper', 'scissors','lizard' or 'spock': paper\n"
     ]
    },
    {
     "data": {
      "text/plain": [
       "'paper'"
      ]
     },
     "execution_count": 17,
     "metadata": {},
     "output_type": "execute_result"
    }
   ],
   "source": [
    "#Define a function that asks the player which is the gesture he or she wants to show: 'rock', 'paper', 'scissors','lizard' or 'spock'.\n",
    "def PlayerTurn():\n",
    "    while (True):\n",
    "        player = input(\"play gesture 'rock', 'paper', 'scissors','lizard' or 'spock': \")\n",
    "        if player == 'rock':\n",
    "            break\n",
    "        elif player == 'paper':\n",
    "            break\n",
    "        elif player == 'scissors':\n",
    "            break\n",
    "        elif player =='lizard':\n",
    "            break\n",
    "        elif player =='spock':\n",
    "            break\n",
    "        \n",
    "        else:\n",
    "            print('not valid gesture, try again')\n",
    "    return player\n",
    "PlayerTurn()\n",
    "    "
   ]
  },
  {
   "cell_type": "code",
   "execution_count": 18,
   "metadata": {},
   "outputs": [],
   "source": [
    "# Define a function that checks who won a round\n",
    "\n",
    "def whowins(x, y):\n",
    "    \n",
    "#if playes chooses rock:\n",
    "\n",
    "    if x == \"rock\":\n",
    "        if y ==\"paper\":\n",
    "            return 1\n",
    "        elif y==\"lizard\":\n",
    "            return 1\n",
    "        elif y ==\"scissors\":\n",
    "            return 2\n",
    "        elif y==\"spock\":\n",
    "            return 2\n",
    "        else:\n",
    "            return 0\n",
    "        \n",
    "        \n",
    "#if playes chooses paper:\n",
    "\n",
    "    if x == \"paper\":\n",
    "        if y ==\"scissors\":\n",
    "            return 1\n",
    "        elif y==\"spock\":\n",
    "            return 1\n",
    "        elif y ==\"rock\":\n",
    "            return 2\n",
    "        elif y==\"lizard\":\n",
    "            return 2\n",
    "        else:\n",
    "            return 0\n",
    "        \n",
    "#if playes chooses scissors:\n",
    "\n",
    "    if x == \"scissors\":\n",
    "        if y ==\"rock\":\n",
    "            return 1\n",
    "        elif y ==\"lizard\":\n",
    "            return 1\n",
    "        elif y ==\"paper\":\n",
    "            return 2\n",
    "        elif y==\"spock\":\n",
    "            return 2\n",
    "        else:\n",
    "            return 0\n",
    "\n",
    "#if playes chooses lizard:\n",
    "        \n",
    "    if x ==\"lizard\":\n",
    "        if y ==\"spock\":\n",
    "            return 1\n",
    "        elif y == \"paper\":\n",
    "            return 1\n",
    "        elif y ==\"scissors\":\n",
    "            return 2\n",
    "        elif y ==\"rock\":\n",
    "            return 2\n",
    "        else:\n",
    "            return 0\n",
    "        \n",
    "#if playes chooses spock:        \n",
    "    \n",
    "    if x==\"spock\":\n",
    "        if y ==\"scissors\":\n",
    "            return 1\n",
    "        elif y ==\"rock\":\n",
    "            return 1\n",
    "        elif y ==\"lizard\":\n",
    "            return 2\n",
    "        elif y ==\"paper\":\n",
    "            return 2\n",
    "        else:\n",
    "            return 0\n",
    "        "
   ]
  },
  {
   "cell_type": "code",
   "execution_count": 19,
   "metadata": {},
   "outputs": [
    {
     "name": "stdout",
     "output_type": "stream",
     "text": [
      "play gesture 'rock', 'paper', 'scissors','lizard' or 'spock': lizard\n",
      "Your choice: lizard\n",
      "Computer choice: scissors\n",
      "Current round: 1\n",
      "Player wins this round!\n"
     ]
    }
   ],
   "source": [
    "# Define a function that prints the choice of the computer, the choice of the player and a message that announces who won the current round\n",
    "Round = 0\n",
    "def rpsround():\n",
    "    global Round\n",
    "    global cpu_score\n",
    "    global player_score\n",
    "    playergest = PlayerTurn()\n",
    "    randomgest = random.choice(gestures)\n",
    "    print(\"Your choice:\", playergest)\n",
    "    print(\"Computer choice:\", random_gest)\n",
    "    Round += 1 \n",
    "    print(\"Current round:\",Round)\n",
    "    if whowins(playergest,random_gest) == 1:\n",
    "        print(\"Computer wins this round!\")\n",
    "        cpu_score += 1\n",
    "    elif whowins(playergest,random_gest) == 2:\n",
    "        print(\"Player wins this round!\")\n",
    "        player_score += 1\n",
    "    else:\n",
    "        print(\"Tie!\")\n",
    "rpsround()"
   ]
  },
  {
   "cell_type": "code",
   "execution_count": 20,
   "metadata": {},
   "outputs": [
    {
     "name": "stdout",
     "output_type": "stream",
     "text": [
      "play gesture 'rock', 'paper', 'scissors','lizard' or 'spock': lizard\n",
      "Your choice: lizard\n",
      "Computer choice: scissors\n",
      "Current round: 1\n",
      "Player wins this round!\n",
      "play gesture 'rock', 'paper', 'scissors','lizard' or 'spock': lizard\n",
      "Your choice: lizard\n",
      "Computer choice: scissors\n",
      "Current round: 2\n",
      "Player wins this round!\n",
      "play gesture 'rock', 'paper', 'scissors','lizard' or 'spock': paper\n",
      "Your choice: paper\n",
      "Computer choice: scissors\n",
      "Current round: 3\n",
      "Computer wins this round!\n",
      "play gesture 'rock', 'paper', 'scissors','lizard' or 'spock': rock\n",
      "Your choice: rock\n",
      "Computer choice: scissors\n",
      "Current round: 4\n",
      "Player wins this round!\n",
      "play gesture 'rock', 'paper', 'scissors','lizard' or 'spock': spock\n",
      "Your choice: spock\n",
      "Computer choice: scissors\n",
      "Current round: 5\n",
      "Computer wins this round!\n"
     ]
    }
   ],
   "source": [
    "n_rounds = 5\n",
    "\n",
    "Round = 0\n",
    "cpu_score = 0\n",
    "player_score = 0\n",
    "while Round != n_rounds:\n",
    "    rpsround()"
   ]
  },
  {
   "cell_type": "code",
   "execution_count": 21,
   "metadata": {},
   "outputs": [
    {
     "name": "stdout",
     "output_type": "stream",
     "text": [
      "Player won game!\n"
     ]
    }
   ],
   "source": [
    "# Print the winner of the game based on who won more rounds\n",
    "if cpu_score >= rounds_to_win:\n",
    "    print(\"Computer won game!\")\n",
    "elif player_score >= rounds_to_win:\n",
    "    print(\"Player won game!\")\n",
    "else:\n",
    "    print(\"Game tied!\")"
   ]
  }
 ],
 "metadata": {
  "kernelspec": {
   "display_name": "Python 3",
   "language": "python",
   "name": "python3"
  },
  "language_info": {
   "codemirror_mode": {
    "name": "ipython",
    "version": 3
   },
   "file_extension": ".py",
   "mimetype": "text/x-python",
   "name": "python",
   "nbconvert_exporter": "python",
   "pygments_lexer": "ipython3",
   "version": "3.7.3"
  }
 },
 "nbformat": 4,
 "nbformat_minor": 2
}
